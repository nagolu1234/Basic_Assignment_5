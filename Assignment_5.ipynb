{
  "nbformat": 4,
  "nbformat_minor": 0,
  "metadata": {
    "colab": {
      "name": "Assignment_5.ipynb",
      "provenance": [],
      "collapsed_sections": []
    },
    "kernelspec": {
      "name": "python3",
      "display_name": "Python 3"
    },
    "language_info": {
      "name": "python"
    }
  },
  "cells": [
    {
      "cell_type": "markdown",
      "metadata": {
        "id": "aQLfqnOUX_QK"
      },
      "source": [
        "1. What does an empty dictionary's code look like?"
      ]
    },
    {
      "cell_type": "markdown",
      "metadata": {
        "id": "iIBqX31jYT4V"
      },
      "source": [
        "**curly brackets { }**"
      ]
    },
    {
      "cell_type": "markdown",
      "metadata": {
        "id": "UisTxPAYYa-k"
      },
      "source": [
        "2. What is the value of a dictionary value with the key 'foo' and the value 42?"
      ]
    },
    {
      "cell_type": "markdown",
      "metadata": {
        "id": "ECV6FehEYjwV"
      },
      "source": [
        "{'foo': 42}"
      ]
    },
    {
      "cell_type": "markdown",
      "metadata": {
        "id": "I1xWZbmBYqLT"
      },
      "source": [
        "3. What is the most significant distinction between a dictionary and a list?"
      ]
    },
    {
      "cell_type": "markdown",
      "metadata": {
        "id": "WbWIkNoaYxKW"
      },
      "source": [
        "The items are  **unordered in dictionary and ordered in list**"
      ]
    },
    {
      "cell_type": "markdown",
      "metadata": {
        "id": "Be722vr_ZNtC"
      },
      "source": [
        "4. What happens if you try to access spam['foo'] if spam is {'bar': 100}?"
      ]
    },
    {
      "cell_type": "markdown",
      "metadata": {
        "id": "nbmROONrZSNk"
      },
      "source": [
        "Output is **keyerror**"
      ]
    },
    {
      "cell_type": "markdown",
      "metadata": {
        "id": "77Y77ktuZm-S"
      },
      "source": [
        "5. If a dictionary is stored in spam, what is the difference between the expressions 'cat' in spam and 'cat' in spam.keys()?"
      ]
    },
    {
      "cell_type": "markdown",
      "metadata": {
        "id": "kh35x4y6Zn1E"
      },
      "source": [
        "The **in operartor** checks 'cat' is exists as a key in spam and returns the boolean value\n"
      ]
    },
    {
      "cell_type": "markdown",
      "metadata": {
        "id": "sKSOc4mGbGUE"
      },
      "source": [
        "6. If a dictionary is stored in spam, what is the difference between the expressions 'cat' in spam and 'cat' in spam.values()?\n"
      ]
    },
    {
      "cell_type": "markdown",
      "metadata": {
        "id": "rsf2A0YNbgGf"
      },
      "source": [
        "'cat' in spam checks whether there is an 'cat' key in dictionary.<br>\n",
        "'cat' in spam.values() checks whether there is an 'cat' as a value for any key in dictionary.\n"
      ]
    },
    {
      "cell_type": "markdown",
      "metadata": {
        "id": "GrBpnlT6cQef"
      },
      "source": [
        "7. What is a shortcut for the following code?\n",
        "if 'color' not in spam:\n",
        "spam['color'] = 'black'\n"
      ]
    },
    {
      "cell_type": "markdown",
      "metadata": {
        "id": "bLQ75QekcUnj"
      },
      "source": [
        "spam.setdefault('color', 'black')"
      ]
    },
    {
      "cell_type": "markdown",
      "metadata": {
        "id": "pYqvxwZIcqfV"
      },
      "source": [
        "8. How do you \"pretty print\" dictionary values using which module and function?"
      ]
    },
    {
      "cell_type": "markdown",
      "metadata": {
        "id": "4K69LoePc4YR"
      },
      "source": [
        "pprint.pprint()"
      ]
    }
  ]
}